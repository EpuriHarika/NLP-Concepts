{
 "cells": [
  {
   "cell_type": "markdown",
   "metadata": {},
   "source": [
    "# Parts Of Speech NLTK\n",
    "\n",
    "Natural Language Toolkit (NLTK) is a platform used for building programs for text analysis. One of the more powerful aspects of the NLTK module is the Part of Speech tagging.\n",
    "\n",
    "POS Tags check how a word functions (i.e) like with meaning and grammatically."
   ]
  },
  {
   "attachments": {
    "image.png": {
     "image/png": "[encoded data removed]"
    }
   },
   "cell_type": "markdown",
   "metadata": {},
   "source": [
    "![image.png](attachment:image.png)"
   ]
  },
  {
   "cell_type": "code",
   "execution_count": 9,
   "metadata": {},
   "outputs": [
    {
     "name": "stderr",
     "output_type": "stream",
     "text": [
      "[nltk_data] Downloading package averaged_perceptron_tagger to\n",
      "[nltk_data]     C:\\Users\\admin\\AppData\\Roaming\\nltk_data...\n",
      "[nltk_data]   Unzipping taggers\\averaged_perceptron_tagger.zip.\n"
     ]
    }
   ],
   "source": [
    "import nltk \n",
    "nltk.download('averaged_perceptron_tagger')\n",
    "from nltk.corpus import stopwords \n",
    "from nltk.tokenize import word_tokenize, sent_tokenize \n",
    "stop_words = set(stopwords.words('english'))"
   ]
  },
  {
   "cell_type": "code",
   "execution_count": 19,
   "metadata": {},
   "outputs": [],
   "source": [
    "#Text \n",
    "text = \"Harika, asha and vineetha are my good friends.Harika is getting married next year.But friendship is a sacred bond between people.\"  "
   ]
  },
  {
   "cell_type": "code",
   "execution_count": 20,
   "metadata": {},
   "outputs": [
    {
     "data": {
      "text/plain": [
       "['Harika',\n",
       " ',',\n",
       " 'asha',\n",
       " 'and',\n",
       " 'vineetha',\n",
       " 'are',\n",
       " 'my',\n",
       " 'good',\n",
       " 'friends.Harika',\n",
       " 'is',\n",
       " 'getting',\n",
       " 'married',\n",
       " 'next',\n",
       " 'year.But',\n",
       " 'friendship',\n",
       " 'is',\n",
       " 'a',\n",
       " 'sacred',\n",
       " 'bond',\n",
       " 'between',\n",
       " 'people',\n",
       " '.']"
      ]
     },
     "execution_count": 20,
     "metadata": {},
     "output_type": "execute_result"
    }
   ],
   "source": [
    "#word_tokenizing \n",
    "word_token = word_tokenize(text)\n",
    "word_token"
   ]
  },
  {
   "cell_type": "code",
   "execution_count": 22,
   "metadata": {},
   "outputs": [
    {
     "data": {
      "text/plain": [
       "['Harika',\n",
       " ',',\n",
       " 'asha',\n",
       " 'vineetha',\n",
       " 'good',\n",
       " 'friends.Harika',\n",
       " 'getting',\n",
       " 'married',\n",
       " 'next',\n",
       " 'year.But',\n",
       " 'friendship',\n",
       " 'sacred',\n",
       " 'bond',\n",
       " 'people',\n",
       " '.']"
      ]
     },
     "execution_count": 22,
     "metadata": {},
     "output_type": "execute_result"
    }
   ],
   "source": [
    "#Now filtering Sentence\n",
    "\n",
    "Sentence_Filter = []\n",
    "\n",
    "for words in word_token:\n",
    "    if words not in stop_words:\n",
    "        Sentence_Filter.append(words)\n",
    "\n",
    "#printing fltered sentence\n",
    "# Removes stop words such as: “the”, “a”, “an”, “in” \n",
    "Sentence_Filter"
   ]
  },
  {
   "cell_type": "code",
   "execution_count": 24,
   "metadata": {},
   "outputs": [
    {
     "data": {
      "text/plain": [
       "[('Harika', 'NNP'),\n",
       " (',', ','),\n",
       " ('asha', 'RB'),\n",
       " ('vineetha', 'RB'),\n",
       " ('good', 'JJ'),\n",
       " ('friends.Harika', 'NNS'),\n",
       " ('getting', 'VBG'),\n",
       " ('married', 'VBD'),\n",
       " ('next', 'JJ'),\n",
       " ('year.But', 'NN'),\n",
       " ('friendship', 'NN'),\n",
       " ('sacred', 'VBD'),\n",
       " ('bond', 'NN'),\n",
       " ('people', 'NNS'),\n",
       " ('.', '.')]"
      ]
     },
     "execution_count": 24,
     "metadata": {},
     "output_type": "execute_result"
    }
   ],
   "source": [
    "# Using a Tagger. Which is part-of-speech \n",
    "# tagger or POS-tagger. \n",
    "tagged = nltk.pos_tag(Sentence_Filter) \n",
    "tagged"
   ]
  },
  {
   "cell_type": "markdown",
   "metadata": {},
   "source": [
    "# List  of POS Tags\n",
    "\n",
    "CC coordinating conjunction\n",
    "\n",
    "CD cardinal digit\n",
    "\n",
    "DT determiner\n",
    "\n",
    "EX existential there (like: “there is” … think of it like “there exists”)\n",
    "\n",
    "FW foreign word\n",
    "\n",
    "IN preposition/subordinating conjunction\n",
    "\n",
    "JJ adjective ‘big’\n",
    "\n",
    "JJR adjective, comparative ‘bigger’\n",
    "\n",
    "JJS adjective, superlative ‘biggest’\n",
    "\n",
    "LS list marker \n",
    "\n"
   ]
  },
  {
   "cell_type": "markdown",
   "metadata": {},
   "source": [
    "MD modal could, will\n",
    "\n",
    "NN noun, singular ‘desk’\n",
    "\n",
    "NNS noun plural ‘desks’\n",
    "\n",
    "NNP proper noun, singular ‘Harrison’\n",
    "\n",
    "NNPS proper noun, plural ‘Americans’\n",
    "\n",
    "PDT predeterminer ‘all the kids’\n",
    "\n",
    "POS possessive ending parent’s\n",
    "\n",
    "PRP personal pronoun I, he, she\n",
    "\n",
    "PRP$ possessive pronoun my, his, hers\n",
    "\n",
    "RB adverb very, silently,\n",
    "\n",
    "RBR adverb, comparative better\n",
    "\n",
    "RBS adverb, superlative best\n",
    "\n",
    "RP particle give up\n",
    "\n",
    "TO, to go ‘to’ the store.\n",
    "\n",
    "UH interjection, errrrrrrrm\n",
    "\n",
    "VB verb, base form \n",
    "\n",
    "VBD verb, past tense, took\n",
    "\n",
    "VBG verb, gerund/present participle taking\n",
    "\n",
    "VBN verb, past participle is taken\n",
    "\n",
    "VBP verb, sing. present, known-3d take\n",
    "\n",
    "VBZ verb, 3rd person sing. present takes\n",
    "\n",
    "WDT wh-determiner which\n",
    "\n",
    "WP wh-pronoun who, what\n",
    "\n",
    "WP$ possessive wh-pronoun whose\n",
    "\n",
    "WRB wh-adverb where, when"
   ]
  },
  {
   "cell_type": "code",
   "execution_count": null,
   "metadata": {},
   "outputs": [],
   "source": []
  }
 ],
 "metadata": {
  "kernelspec": {
   "display_name": "Python 3",
   "language": "python",
   "name": "python3"
  },
  "language_info": {
   "codemirror_mode": {
    "name": "ipython",
    "version": 3
   },
   "file_extension": ".py",
   "mimetype": "text/x-python",
   "name": "python",
   "nbconvert_exporter": "python",
   "pygments_lexer": "ipython3",
   "version": "3.7.4"
  }
 },
 "nbformat": 4,
 "nbformat_minor": 2
}
