{
 "cells": [
  {
   "cell_type": "markdown",
   "metadata": {},
   "source": [
    "# Stemming Words With NLTK\n",
    "\n",
    "Stemming: Normalizing words into its base form or rootform \n",
    "\n",
    "Errors in Stemming:\n",
    "There are mainly two errors in stemming – Overstemming and Understemming. \n",
    "\n",
    "Overstemming: Occurs when two words are stemmed to same root that are of different stems.\n",
    "\n",
    "Under-stemming: Occurs when two words are stemmed to same root that are not of different stems."
   ]
  },
  {
   "cell_type": "code",
   "execution_count": 3,
   "metadata": {},
   "outputs": [],
   "source": [
    "import nltk\n",
    "from nltk.stem import PorterStemmer\n",
    "from nltk.tokenize import sent_tokenize, word_tokenize"
   ]
  },
  {
   "cell_type": "code",
   "execution_count": 19,
   "metadata": {},
   "outputs": [],
   "source": [
    "PS = PorterStemmer()"
   ]
  },
  {
   "cell_type": "code",
   "execution_count": 20,
   "metadata": {},
   "outputs": [],
   "source": [
    "#Examples for same words\n",
    "Example_words = [\"python\",\"pythoner\",\"pythonly\",\"pyth\",\"pyth\",\"pythoningly\", \"pythoned\",\"pythoning\"]"
   ]
  },
  {
   "cell_type": "code",
   "execution_count": 21,
   "metadata": {},
   "outputs": [
    {
     "name": "stdout",
     "output_type": "stream",
     "text": [
      "python\n",
      "python\n",
      "pythonli\n",
      "pyth\n",
      "pyth\n",
      "pythoningli\n",
      "python\n",
      "python\n"
     ]
    }
   ],
   "source": [
    "#Filtering PS using Example_words \n",
    "for words in Example_words:\n",
    "    Stem = PS.stem(words)\n",
    "    print(Stem)"
   ]
  },
  {
   "cell_type": "code",
   "execution_count": null,
   "metadata": {},
   "outputs": [],
   "source": []
  }
 ],
 "metadata": {
  "kernelspec": {
   "display_name": "Python 3",
   "language": "python",
   "name": "python3"
  },
  "language_info": {
   "codemirror_mode": {
    "name": "ipython",
    "version": 3
   },
   "file_extension": ".py",
   "mimetype": "text/x-python",
   "name": "python",
   "nbconvert_exporter": "python",
   "pygments_lexer": "ipython3",
   "version": "3.7.4"
  }
 },
 "nbformat": 4,
 "nbformat_minor": 2
}
