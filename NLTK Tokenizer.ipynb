{
 "cells": [
  {
   "cell_type": "markdown",
   "metadata": {},
   "source": [
    "# Natural Language Processing\n",
    "\n",
    "Natural Language Processing lies in making computers understand the natural language. Computers can understand the structured form of data like spreadsheets and the tables in the database, but human languages, texts, and voices form an unstructured category of data, and it gets difficult for the computer to understand it, and there arises the need for Natural Language Processing.\n"
   ]
  },
  {
   "attachments": {
    "NLP.png": {
     "image/png": "[encoded data removed]"
    }
   },
   "cell_type": "markdown",
   "metadata": {},
   "source": [
    "![NLP.png](attachment:NLP.png)"
   ]
  },
  {
   "cell_type": "markdown",
   "metadata": {},
   "source": [
    "# Tokenizing words and Sentences"
   ]
  },
  {
   "cell_type": "code",
   "execution_count": 1,
   "metadata": {},
   "outputs": [
    {
     "name": "stderr",
     "output_type": "stream",
     "text": [
      "[nltk_data] Downloading package punkt to\n",
      "[nltk_data]     C:\\Users\\admin\\AppData\\Roaming\\nltk_data...\n",
      "[nltk_data]   Unzipping tokenizers\\punkt.zip.\n"
     ]
    },
    {
     "data": {
      "text/plain": [
       "True"
      ]
     },
     "execution_count": 1,
     "metadata": {},
     "output_type": "execute_result"
    }
   ],
   "source": [
    "import nltk\n",
    "nltk.download('punkt')"
   ]
  },
  {
   "cell_type": "code",
   "execution_count": 2,
   "metadata": {},
   "outputs": [
    {
     "data": {
      "text/plain": [
       "'Tokenizing - word tokenizer, sentence tokenizer\\nlexicon and corpus\\nLexicon - will refer to the component of a NLP system that contains information (semantic, grammatical) about individual words or word strings.\\nCorpus is represents a collection of (data) texts, typically labeled with text annotations: labeled corpus'"
      ]
     },
     "execution_count": 2,
     "metadata": {},
     "output_type": "execute_result"
    }
   ],
   "source": [
    "'''Tokenizing - word tokenizer, sentence tokenizer\n",
    "lexicon and corpus\n",
    "Lexicon - will refer to the component of a NLP system that contains information (semantic, grammatical) about individual words or word strings.\n",
    "Corpus is represents a collection of (data) texts, typically labeled with text annotations: labeled corpus'''"
   ]
  },
  {
   "cell_type": "code",
   "execution_count": 1,
   "metadata": {},
   "outputs": [
    {
     "name": "stdout",
     "output_type": "stream",
     "text": [
      "This is sent_tokenizer\n"
     ]
    },
    {
     "data": {
      "text/plain": [
       "['Hello, this is tokenizing.',\n",
       " 'Which is helpfull?',\n",
       " 'I do belive this is good way.']"
      ]
     },
     "execution_count": 1,
     "metadata": {},
     "output_type": "execute_result"
    }
   ],
   "source": [
    "from nltk.tokenize import sent_tokenize, word_tokenize\n",
    "\n",
    "text = \"Hello, this is tokenizing. Which is helpfull? I do belive this is good way.\"\n",
    "\n",
    "sent_token = sent_tokenize(text)\n",
    "print(\"This is sent_tokenizer\")\n",
    "sent_token\n",
    "\n"
   ]
  },
  {
   "cell_type": "code",
   "execution_count": 2,
   "metadata": {},
   "outputs": [
    {
     "name": "stdout",
     "output_type": "stream",
     "text": [
      "This is word_tokenizer\n"
     ]
    },
    {
     "data": {
      "text/plain": [
       "['Hello',\n",
       " ',',\n",
       " 'this',\n",
       " 'is',\n",
       " 'tokenizing',\n",
       " '.',\n",
       " 'Which',\n",
       " 'is',\n",
       " 'helpfull',\n",
       " '?',\n",
       " 'I',\n",
       " 'do',\n",
       " 'belive',\n",
       " 'this',\n",
       " 'is',\n",
       " 'good',\n",
       " 'way',\n",
       " '.']"
      ]
     },
     "execution_count": 2,
     "metadata": {},
     "output_type": "execute_result"
    }
   ],
   "source": [
    "word_token = word_tokenize(text)\n",
    "print(\"This is word_tokenizer\")\n",
    "word_token"
   ]
  },
  {
   "cell_type": "code",
   "execution_count": null,
   "metadata": {},
   "outputs": [],
   "source": []
  }
 ],
 "metadata": {
  "kernelspec": {
   "display_name": "Python 3",
   "language": "python",
   "name": "python3"
  },
  "language_info": {
   "codemirror_mode": {
    "name": "ipython",
    "version": 3
   },
   "file_extension": ".py",
   "mimetype": "text/x-python",
   "name": "python",
   "nbconvert_exporter": "python",
   "pygments_lexer": "ipython3",
   "version": "3.7.4"
  }
 },
 "nbformat": 4,
 "nbformat_minor": 2
}
